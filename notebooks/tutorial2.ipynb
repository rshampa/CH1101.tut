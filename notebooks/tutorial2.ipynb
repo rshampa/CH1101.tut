{
 "cells": [
  {
   "cell_type": "markdown",
   "metadata": {},
   "source": [
    "# Chemistry I\n",
    "## Course code: CH 1101\n",
    "- Credits: 3\n",
    "- Program: BTech\n",
    "- Course Status: Core\n",
    "\n",
    "## Tutorial Sheet 2"
   ]
  },
  {
   "cell_type": "markdown",
   "metadata": {},
   "source": [
    "## Working with `scipy.constants`"
   ]
  },
  {
   "cell_type": "code",
   "execution_count": 2,
   "metadata": {},
   "outputs": [
    {
     "name": "stdout",
     "output_type": "stream",
     "text": [
      "c = 299792458.0 m s^-1\n",
      "m_e = 9.1093837015e-31 kg\n",
      "m_p = 1.67262192369e-27 kg\n",
      "h = 6.62607015e-34 J s\n",
      "N_A = 6.02214076e+23 mol^-1\n",
      "k = 1.380649e-23 J K^-1\n",
      "e = 1.602176634e-19 C\n",
      "Ry = 10973731.56816 m^-1\n",
      "eV = 1.602176634e-19 J\n"
     ]
    }
   ],
   "source": [
    "from scipy.constants import c             # speed of light\n",
    "from scipy.constants import m_e           # mass of electron\n",
    "from scipy.constants import m_p           # mass of proton\n",
    "from scipy.constants import h             # Planck's constant\n",
    "from scipy.constants import N_A           # Avogadro constant\n",
    "from scipy.constants import k             # Boltzmann constant\n",
    "from scipy.constants import e             # elementary charge\n",
    "from scipy.constants import Rydberg as Ry # Rydberg constant\n",
    "from scipy.constants import eV            # one electron volt in Joules\n",
    "\n",
    "print( 'c = {} m s^-1'.format( c ) )\n",
    "print( 'm_e = {} kg'.format( m_e ) )\n",
    "print( 'm_p = {} kg'.format( m_p ) )\n",
    "print( 'h = {} J s'.format( h ) )\n",
    "print ( 'N_A = {} mol^-1'.format (N_A) )\n",
    "print( 'k = {} J K^-1'.format( k ) )\n",
    "print( 'e = {} C'.format(e) )\n",
    "print( 'Ry = {} m^-1'.format(Ry) )\n",
    "print( 'eV = {} J'.format(eV) )"
   ]
  },
  {
   "cell_type": "markdown",
   "metadata": {},
   "source": [
    "#### Physical constants¶\n",
    "`scipy.constants` also contains a `physical_constants` database (Python dictionary)\n",
    "that gives a larger number of constants along with their their units."
   ]
  },
  {
   "cell_type": "code",
   "execution_count": 3,
   "metadata": {},
   "outputs": [
    {
     "name": "stdout",
     "output_type": "stream",
     "text": [
      "(299792458.0, 'm s^-1', 0.0)\n",
      "(9.1093837015e-31, 'kg', 2.8e-40)\n",
      "(1.67262192369e-27, 'kg', 5.1e-37)\n",
      "(6.62607015e-34, 'J Hz^-1', 0.0)\n",
      "(6.02214076e+23, 'mol^-1', 0.0)\n",
      "(1.380649e-23, 'J K^-1', 0.0)\n",
      "(1.602176634e-19, 'C', 0.0)\n",
      "(1.67262192369e-27, 'kg', 5.1e-37)\n",
      "(10973731.56816, 'm^-1', 2.1e-05)\n",
      "(1.602176634e-19, 'J', 0.0)\n"
     ]
    }
   ],
   "source": [
    "from scipy.constants import physical_constants\n",
    "\n",
    "print( physical_constants['speed of light in vacuum'] )\n",
    "print( physical_constants['electron mass'] )\n",
    "print( physical_constants['proton mass'] )\n",
    "print( physical_constants['Planck constant'] )\n",
    "print( physical_constants['Avogadro constant'] )\n",
    "print( physical_constants['Boltzmann constant'] )\n",
    "print( physical_constants['elementary charge'] )\n",
    "print( physical_constants['proton mass'] )\n",
    "print( physical_constants['Rydberg constant'] )\n",
    "print( physical_constants['electron volt'] )"
   ]
  },
  {
   "cell_type": "markdown",
   "metadata": {},
   "source": [
    "Each entry in the dictionary returns three components: (1) value, (2) unit (as a string), and (3) experimental uncertainty."
   ]
  },
  {
   "cell_type": "code",
   "execution_count": 4,
   "metadata": {},
   "outputs": [],
   "source": [
    "import math\n",
    "from math import pi"
   ]
  },
  {
   "cell_type": "code",
   "execution_count": 5,
   "metadata": {},
   "outputs": [
    {
     "name": "stdout",
     "output_type": "stream",
     "text": [
      "3.141592653589793\n"
     ]
    }
   ],
   "source": [
    "print(pi)"
   ]
  },
  {
   "cell_type": "markdown",
   "metadata": {},
   "source": [
    "### Question 1\n",
    "What kind of molecular processes are studied using each of the following kind of electromagnetic radiations?\n",
    "- (a) X-rays\n",
    "- (b) UV-Visible light\n",
    "- (c) Infrared radiation\n",
    "- (d) Microwaves\n",
    "- (e) Radio waves\n",
    "\n",
    "### Answer:\n",
    "- (a) X-rays: Core electronic transitions\n",
    "\n",
    "- (b) UV-Visible light: Valence electronic transitions\n",
    "\n",
    "- (c) Infrared radiation: Molecular vibrations\n",
    "\n",
    "- (d) Microwaves: Molecular rotations\n",
    "\n",
    "- (e) Radio waves: Nuclear spin states detection\n"
   ]
  },
  {
   "cell_type": "markdown",
   "metadata": {},
   "source": [
    "### Question 2\n",
    "When light of wavelength 400 nm passes through 3.5 mm of a solution of an absorbing substance at a concentration 0.67 mmol/lit, the transmission is 65.5 percent. Calculate the molar absorption coefficient of the solute at this wavelength.\n",
    "### Solution:\n",
    "$$A = -log~T = \\epsilon~c~l \\quad {\\rm and} \\quad T=\\frac{I}{I_0}$$\n",
    "- A: Absorbance\n",
    "- T: Transmittance\n",
    "- &epsilon;: molar absorption coefficient\n",
    "- l: path length which is the cell thickness\n",
    "- c: concentration of solution\n",
    "- I<sub>0</sub>: incident light intensity\n",
    "- I: transmitted light intensity\n",
    "\n",
    "$$\\epsilon = \\frac{-log~T}{c~l}$$ Let's first calculate T = 65.5/100 = 0.655\n",
    "\n",
    "$$\\Rightarrow \\epsilon = \\frac{-log~T}{c~l} = \\frac{-log~0.655}{(3.5~mmol~lit^{-1})\\times(3.5~mm)} = 0.0784~ mmol^{-1}~lit~mm^{-1} $$"
   ]
  },
  {
   "cell_type": "code",
   "execution_count": 6,
   "metadata": {},
   "outputs": [
    {
     "name": "stdout",
     "output_type": "stream",
     "text": [
      "Molar absorption coefficient = 7.84e-02 mmol^-1 lit mm^-1\n"
     ]
    }
   ],
   "source": [
    "conc  = 0.67                                           # c, mmol/lit\n",
    "trans = 65.5/100                                       # T\n",
    "cell  = 3.5                                            # l, mm\n",
    "\n",
    "epsilon_400 = - math.log10(trans) / ( conc * cell)     # lit mol^-1 mm^-1\n",
    "print( \"Molar absorption coefficient = {:.2e} mmol^-1 lit mm^-1\".format( epsilon_400 ) )"
   ]
  },
  {
   "cell_type": "markdown",
   "metadata": {},
   "source": [
    "### Question 3\n",
    "The molar absorption coefficient of a solute at 440 nm is 323 lit mol<sup>-1</sup> cm<sup>-1</sup>. When light of that wavelength passes through a 7.50 mm cell containing a solution of the solute, 52.3 per cent of the light was absorbed. What is the concentration of the solution?\n",
    "### Solution:\n",
    "$$ c  = \\frac{-log~T}{\\epsilon~l}$$ Let's first calculate T = (100-52.3)/100 = 0.477\n",
    "\n",
    "$$\\Rightarrow c = \\frac{-log~T}{\\epsilon~l} = \\frac{-log~0.477}{(323~lit~mol^{-1}cm^{-1})\\times(0.75~cm)} = 0.00133~mol~lit^{-1} $$"
   ]
  },
  {
   "cell_type": "code",
   "execution_count": 7,
   "metadata": {},
   "outputs": [
    {
     "name": "stdout",
     "output_type": "stream",
     "text": [
      "Concentration of the solution = 1.33e-03 mol/lit\n"
     ]
    }
   ],
   "source": [
    "epsilon_440 = 323                   # eplison, lit mol^-1 cm^-1\n",
    "cell = 0.75                         # l, cm\n",
    "\n",
    "trans = (100 - 52.3)/100            # T\n",
    "\n",
    "conc = - math.log10(trans) / (epsilon_440 * cell)\n",
    "print( \"Concentration of the solution = {:.2e} mol/lit\".format( conc ) )"
   ]
  },
  {
   "cell_type": "markdown",
   "metadata": {},
   "source": [
    "### Question 4\n",
    "An electronic ground state and excited state in a molecule are separated by an energy gap of 10000 cm<sup>-1</sup>. Estimate the fraction of molecules that will be found in the excited state at room temperature (27°C). What would be the fraction of molecules in excited state at the same temperature if the energy separation is 100 MHz (typical energy separation between nuclear spin states).\n",
    "\n",
    "### Solution:\n",
    "$$\\frac{N_f}{N_i} = e^{-\\Delta E/k_B T}$$\n",
    "\n",
    "##### Learning concept:\n",
    "A certain fraction of molecule can be found in the excited state if the energy gap is comparable to k<sub>B</sub>T\n",
    "\n",
    " $$ k_B T= (1.38\\times 10^{-23}~J~K^{-1})\\times(300~K) = 4.14\\times 10^{-24}~J$$\n",
    " \n",
    "$$\\Delta E = h\\nu \\quad {\\rm and} \\quad \\nu = \\frac{c}{\\lambda} \\Rightarrow \\Delta E = \\frac{hc}{\\lambda} $$\n",
    "\n",
    "$$ \\Delta E  = (6.626\\times 10^{-34}~J~Hz^{-1}) \\times (3.0\\times 10^{8}~m~s^{-1})$$\n",
    "\n",
    "$$= (6.626\\times 10^{-34}~J~s^{-1}) \\times (3.0\\times 10^{8}~m~s^{-1})$$\n",
    "\n",
    "$$= (6.626\\times 10^{-34}~J) \\times (3.0\\times 10^{8}~m)$$\n",
    "\n",
    "$$ \\Rightarrow \\frac{1}{m} = (6.626\\times 10^{-34}~J) \\times (3.0\\times 10^{8}) $$\n",
    "\n",
    "$$ \\Rightarrow \\frac{1}{(100~cm)} = (6.626\\times 10^{-34}~J) \\times (3.0\\times 10^{8}) $$\n",
    "\n",
    "$$ \\Rightarrow 0.01~cm^{-1} = (6.626\\times 10^{-34}~J) \\times (3.0\\times 10^{8}) $$\n",
    "\n",
    "$$ \\Rightarrow cm^{-1} = \\frac{(6.626\\times 10^{-34}~J) \\times (3.0\\times 10^{8})}{0.01} $$\n",
    "\n",
    "### Lets try to solve it for 10000 cm<sup>-1</sup>\n",
    "\n",
    "$$ \\Rightarrow 10000~cm^{-1} = 10000\\times\\frac{(6.626\\times 10^{-34}~J) \\times (3.0\\times 10^{8})}{0.01} = 1.99\\times 10^{-19} J $$\n",
    "\n",
    "Now, \n",
    "$$\\frac{N_f}{N_i} = e^{-\\frac{1.99\\times 10^{-19} J}{4.14\\times 10^{-24}~J}} \\sim 0$$\n",
    "\n",
    "#### This means that most of the molecules will be in the ground state."
   ]
  },
  {
   "cell_type": "code",
   "execution_count": 11,
   "metadata": {},
   "outputs": [
    {
     "name": "stdout",
     "output_type": "stream",
     "text": [
      "kB*T = 4.14e-21 J\n"
     ]
    }
   ],
   "source": [
    "T = 300                                 # Temperature, T = 27+273 = 300 K\n",
    "kbt = k*T\n",
    "                                        # RT = kB * T * NA  [JK^(-1) * K]\n",
    "                                                                               \n",
    "kbt_j = kbt; \n",
    "\n",
    "print( \"kB*T = {:.2e} J\".format( kbt_j ) )"
   ]
  },
  {
   "cell_type": "code",
   "execution_count": 12,
   "metadata": {
    "scrolled": true
   },
   "outputs": [
    {
     "name": "stdout",
     "output_type": "stream",
     "text": [
      "Energy gap = 1.99e-19 J\n",
      "Molecules in excited state = 1.48e-21\n"
     ]
    }
   ],
   "source": [
    "#e = hc/lambda\n",
    "cmi = 10000\n",
    "cmi2j = h * c / 0.01         # conversion factor from cm^-1 to Joule                \n",
    "\n",
    "de_j = cmi * cmi2j\n",
    "\n",
    "\n",
    "print( \"Energy gap = {:.2e} J\".format( de_j ) )\n",
    "nf = math.exp(-de_j/kbt_j)\n",
    "print( \"Molecules in excited state = {:.2e}\".format( nf ) )"
   ]
  },
  {
   "cell_type": "markdown",
   "metadata": {},
   "source": [
    "### Lets try to solve it for 100 MHz\n",
    "\n",
    "$$\\Delta E = h\\nu = h~[J~Hz^{-1}] \\times \\nu~[Hz^{-1}] =  h\\nu ~ [J~Hz^{-1} \\times Hz^{-1}] = h\\nu~[J] $$\n",
    "\n",
    "$$ 100~MHz = 100\\times 10^{6} Hz $$\n",
    "\n",
    "$$ (6.626\\times 10^{-34} \\times 100\\times 10^{6})~[J] = 6.63\\times 10^{-26} J $$\n",
    "\n",
    "Now, \n",
    "$$\\frac{N_f}{N_i} = e^{-\\frac{6.63\\times 10^{-26} J}{4.14\\times 10^{-24}~J}} \\sim 1.0 $$\n",
    "\n",
    "#### This simply means that most of the molecules will be excited."
   ]
  },
  {
   "cell_type": "code",
   "execution_count": 13,
   "metadata": {},
   "outputs": [
    {
     "name": "stdout",
     "output_type": "stream",
     "text": [
      "Energy gap = 6.63e-26 J\n",
      "Molecules in excited state = 1.00e+00\n"
     ]
    }
   ],
   "source": [
    "#e = hc/lambda\n",
    "mhz = 100\n",
    "de_j = h * mhz * 10**6 # conversion factor from Hz to Joule                \n",
    "\n",
    "\n",
    "print( \"Energy gap = {:.2e} J\".format( de_j ) )\n",
    "nf = math.exp(-de_j/kbt_j)\n",
    "print( \"Molecules in excited state = {:.2e}\".format( nf ) )"
   ]
  },
  {
   "cell_type": "code",
   "execution_count": null,
   "metadata": {},
   "outputs": [],
   "source": []
  }
 ],
 "metadata": {
  "kernelspec": {
   "display_name": "Python 3",
   "language": "python",
   "name": "python3"
  },
  "language_info": {
   "codemirror_mode": {
    "name": "ipython",
    "version": 3
   },
   "file_extension": ".py",
   "mimetype": "text/x-python",
   "name": "python",
   "nbconvert_exporter": "python",
   "pygments_lexer": "ipython3",
   "version": "3.8.2"
  }
 },
 "nbformat": 4,
 "nbformat_minor": 4
}
