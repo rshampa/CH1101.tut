{
 "cells": [
  {
   "cell_type": "markdown",
   "metadata": {},
   "source": [
    "# Chemistry I\n",
    "## Course code: CH 1101\n",
    "- Credits: 3\n",
    "- Program: BTech\n",
    "- Course Status: Core\n",
    "\n",
    "## Tutorial Sheet 1"
   ]
  },
  {
   "cell_type": "markdown",
   "metadata": {},
   "source": [
    "## Working with `scipy.constants`"
   ]
  },
  {
   "cell_type": "code",
   "execution_count": 2,
   "metadata": {},
   "outputs": [
    {
     "name": "stdout",
     "output_type": "stream",
     "text": [
      "c = 299792458.0 m s^-1\n",
      "m_e = 9.1093837015e-31 kg\n",
      "h = 6.62607015e-34 J s\n",
      "N_A = 6.02214076e+23 mol^-1\n",
      "k = 1.380649e-23 J K^-1\n",
      "e = 1.602176634e-19 C\n",
      "Ry = 10973731.56816 m^-1\n",
      "eV = 1.602176634e-19 J\n"
     ]
    }
   ],
   "source": [
    "from scipy.constants import c             # speed of light\n",
    "from scipy.constants import m_e           # mass of electron\n",
    "from scipy.constants import h             # Planck's constant\n",
    "from scipy.constants import N_A           # Avogadro constant\n",
    "from scipy.constants import k             # Boltzmann constant\n",
    "from scipy.constants import e             # elementary charge\n",
    "from scipy.constants import Rydberg as Ry # Rydberg constant\n",
    "from scipy.constants import eV            # one electron volt in Joules\n",
    "\n",
    "print( 'c = {} m s^-1'.format( c ) )\n",
    "print( 'm_e = {} kg'.format( m_e ) )\n",
    "print( 'h = {} J s'.format( h ) )\n",
    "print ( 'N_A = {} mol^-1'.format (N_A) )\n",
    "print( 'k = {} J K^-1'.format( k ) )\n",
    "print( 'e = {} C'.format(e) )\n",
    "print( 'Ry = {} m^-1'.format(Ry) )\n",
    "print( 'eV = {} J'.format(eV) )"
   ]
  },
  {
   "cell_type": "markdown",
   "metadata": {},
   "source": [
    "#### Physical constants\n",
    "`scipy.constants` also contains a `physical_constants` database (as a Python dictionary)\n",
    "that contains an even larger number of constants, and also gives their units."
   ]
  },
  {
   "cell_type": "code",
   "execution_count": 3,
   "metadata": {},
   "outputs": [
    {
     "name": "stdout",
     "output_type": "stream",
     "text": [
      "(299792458.0, 'm s^-1', 0.0)\n",
      "(9.1093837015e-31, 'kg', 2.8e-40)\n",
      "(6.62607015e-34, 'J Hz^-1', 0.0)\n",
      "(6.02214076e+23, 'mol^-1', 0.0)\n",
      "(1.380649e-23, 'J K^-1', 0.0)\n",
      "(1.602176634e-19, 'C', 0.0)\n",
      "(1.67262192369e-27, 'kg', 5.1e-37)\n",
      "(10973731.56816, 'm^-1', 2.1e-05)\n",
      "(1.602176634e-19, 'J', 0.0)\n"
     ]
    }
   ],
   "source": [
    "from scipy.constants import physical_constants\n",
    "\n",
    "print( physical_constants['speed of light in vacuum'] )\n",
    "print( physical_constants['electron mass'] )\n",
    "print( physical_constants['Planck constant'] )\n",
    "print( physical_constants['Avogadro constant'] )\n",
    "print( physical_constants['Boltzmann constant'] )\n",
    "print( physical_constants['elementary charge'] )\n",
    "print( physical_constants['proton mass'] )\n",
    "print( physical_constants['Rydberg constant'] )\n",
    "print( physical_constants['electron volt'] )"
   ]
  },
  {
   "cell_type": "markdown",
   "metadata": {},
   "source": [
    "Each entry in the dictionary returns three components: the value, the units (as a string), and the experimental uncertainty."
   ]
  },
  {
   "cell_type": "code",
   "execution_count": 4,
   "metadata": {},
   "outputs": [],
   "source": [
    "import math\n",
    "from math import pi"
   ]
  },
  {
   "cell_type": "code",
   "execution_count": 5,
   "metadata": {},
   "outputs": [
    {
     "name": "stdout",
     "output_type": "stream",
     "text": [
      "3.141592653589793\n"
     ]
    }
   ],
   "source": [
    "print(pi)"
   ]
  },
  {
   "cell_type": "markdown",
   "metadata": {},
   "source": [
    "### Question 1\n",
    "Calculate the energy associated with each of the following electromagnetic radiations and arrange them in the increasing order of their energies. (Plank’s constant h = 6.626 x 10-34 J s)\n",
    "- (a) 200 nm \n",
    "- (b) 2500 cm<sup>-1</sup>\n",
    "- (c) 300 kHz \n",
    "- (d) 4000 cm<sup>-1</sup>\n",
    "- (e) 3 &mu;m"
   ]
  },
  {
   "cell_type": "markdown",
   "metadata": {},
   "source": [
    "### Answer:"
   ]
  },
  {
   "cell_type": "code",
   "execution_count": 6,
   "metadata": {},
   "outputs": [
    {
     "name": "stdout",
     "output_type": "stream",
     "text": [
      "(a) Energy = 9.93e-19 J\n"
     ]
    }
   ],
   "source": [
    "lam_nm = 200            # nm\n",
    "nm2m = 10**(-9)         # conversion factor from nm -> m\n",
    "lam_m = lam_nm*nm2m     # m\n",
    "hnu_j = h*c/lam_m       # J s x m s^1 / m = J\n",
    "\n",
    "print( '(a) Energy = {:.2e} J'.format( hnu_j ) )"
   ]
  },
  {
   "cell_type": "code",
   "execution_count": 7,
   "metadata": {},
   "outputs": [
    {
     "name": "stdout",
     "output_type": "stream",
     "text": [
      "(b) Energy = 4.97e-20 J\n"
     ]
    }
   ],
   "source": [
    "lam_cmi = 2500          # cm^-1\n",
    "lam_cm = 1/lam_cmi      # cm\n",
    "cm2m = 10**(-2)         # conversion factor from cm -> m\n",
    "lam_m = lam_cm*cm2m     # m\n",
    "hnu_j = h*c/lam_m       # J s x m s^1 / m = J\n",
    "\n",
    "print( '(b) Energy = {:.2e} J'.format( hnu_j ) )"
   ]
  },
  {
   "cell_type": "code",
   "execution_count": 8,
   "metadata": {},
   "outputs": [
    {
     "name": "stdout",
     "output_type": "stream",
     "text": [
      "(c) Energy = 1.99e-26 J\n"
     ]
    }
   ],
   "source": [
    "lam_hz = 300*10**3      # Hz\n",
    "lam_cmi = lam_hz/c      # cm^-1\n",
    "lam_cm = 1/lam_cmi      # cm\n",
    "cm2m = 10**(-2)         # conversion factor from cm -> m\n",
    "lam_m = lam_cm*cm2m     # m\n",
    "hnu_j = h*c/lam_m       # J s x m s^1 / m = J\n",
    "\n",
    "print( '(c) Energy = {:.2e} J'.format( hnu_j ) )"
   ]
  },
  {
   "cell_type": "code",
   "execution_count": 9,
   "metadata": {},
   "outputs": [
    {
     "name": "stdout",
     "output_type": "stream",
     "text": [
      "(d) Energy = 7.95e-20 J\n"
     ]
    }
   ],
   "source": [
    "lam_cmi = 4000          # cm^-1\n",
    "lam_cm = 1/lam_cmi      # cm\n",
    "cm2m = 10**(-2)         # conversion factor from cm -> m\n",
    "lam_m = lam_cm*cm2m     # m\n",
    "hnu_j = h*c/lam_m       # J s x m s^1 / m = J\n",
    "\n",
    "print( '(d) Energy = {:.2e} J'.format( hnu_j ) )"
   ]
  },
  {
   "cell_type": "code",
   "execution_count": 10,
   "metadata": {},
   "outputs": [
    {
     "name": "stdout",
     "output_type": "stream",
     "text": [
      "(e) Energy = 6.62e-20 J\n"
     ]
    }
   ],
   "source": [
    "lam_m = 3*10**(-6)      # meter\n",
    "hnu_j = h*c/lam_m       # J s x m s^1 / m = J\n",
    "\n",
    "print( '(e) Energy = {:.2e} J'.format( hnu_j ) )"
   ]
  },
  {
   "cell_type": "markdown",
   "metadata": {},
   "source": [
    "Increasing order of energies associated with the electromagnetic radiation:\n",
    "(c) < (d) < (e) < (b) < (c)"
   ]
  },
  {
   "cell_type": "markdown",
   "metadata": {},
   "source": [
    "### Question 2\n",
    "Calculate the speed of electrons emitted from the surface of potassium metal,\n",
    "when light of wavelength (a) 300 nm (b) 600 nm impinges a clean potassium metal surface?\n",
    "The work function (&phi;) of potassium is 2.3 eV.\n",
    "\n",
    "### Answer:\n",
    "The energy of a photon is calculated using Planck's formula:\n",
    "E = h &nu; and, &nu; = c &frasl; &lambda; and,\n",
    "\n",
    "Einstein's photoelectric effect:\n",
    "$$K.E. = h\\nu - \\phi$$\n",
    "$$K.E. = h\\frac{c}{\\lambda} - \\phi$$\n",
    "\n",
    "To calculate the speed of electrons, what we need is that to calculate the kinetic energy:\n",
    "$$K.E. = \\frac{1}{2}mv^2$$\n",
    "$$\\Rightarrow v^2 = \\frac{2\\times K.E.}{m} \\quad \\Rightarrow v = \\sqrt{\\frac{2\\times K.E.}{m}}$$"
   ]
  },
  {
   "cell_type": "markdown",
   "metadata": {},
   "source": [
    "### Light of wavelength: 300 nm"
   ]
  },
  {
   "cell_type": "code",
   "execution_count": 11,
   "metadata": {},
   "outputs": [
    {
     "name": "stdout",
     "output_type": "stream",
     "text": [
      "Kinetic energy = 2.94e-19 J\n"
     ]
    }
   ],
   "source": [
    "lam_nm = 300            # nm\n",
    "nm2m = 10**(-9)         # conversion factor from nm -> m\n",
    "lam_m = lam_nm*nm2m     # m\n",
    "hnu_j = h*c/lam_m       # J s x m s^1 / m = J\n",
    "phi_ev = 2.3            # eV\n",
    "phi_j = phi_ev*eV       # J\n",
    "kin_e_j = hnu_j - phi_j\n",
    "print( 'Kinetic energy = {:.2e} J'.format( kin_e_j ) )"
   ]
  },
  {
   "cell_type": "code",
   "execution_count": 12,
   "metadata": {},
   "outputs": [
    {
     "name": "stdout",
     "output_type": "stream",
     "text": [
      "Speed = 802941.7101325186 m s^-1\n",
      "Speed = 8.03e+05 m s^-1\n"
     ]
    }
   ],
   "source": [
    "vel = math.sqrt(2*kin_e_j/m_e)                   # sqrt(J/kg) = sqrt(m^2/s^2) = m/s\n",
    "print( 'Speed = {} m s^-1'.format( vel ) )\n",
    "print( \"Speed = {:.2e} m s^-1\".format( vel ) )"
   ]
  },
  {
   "cell_type": "markdown",
   "metadata": {},
   "source": [
    "### Light of wavelength: 600 nm"
   ]
  },
  {
   "cell_type": "code",
   "execution_count": 13,
   "metadata": {},
   "outputs": [
    {
     "name": "stdout",
     "output_type": "stream",
     "text": [
      "Kinetic energy = -3.74e-20 J\n"
     ]
    }
   ],
   "source": [
    "lam_nm = 600            # nm\n",
    "nm2m = 10**(-9)         # conversion factor from nm -> m\n",
    "lam_m = lam_nm*nm2m     # m\n",
    "hnu_j = h*c/lam_m       # J s x m s^1 / m = J\n",
    "phi_ev = 2.3            # eV\n",
    "phi_j = phi_ev*eV       # J\n",
    "kin_e_j = hnu_j - phi_j\n",
    "print( 'Kinetic energy = {:.2e} J'.format( kin_e_j ) )"
   ]
  },
  {
   "cell_type": "markdown",
   "metadata": {},
   "source": [
    "Having negative kinetic energy (unreasonable); this simply means that 600 nm photons will not be able to eject electrons from the Potassium metal surface."
   ]
  },
  {
   "cell_type": "markdown",
   "metadata": {},
   "source": [
    "### Question 3\n",
    "Sodium vapour lamps that were widely used as street lights (before the dawn of LED lighting)\n",
    "emit bright yellow light of wavelength of 590 nm. Calculate the energy separation between\n",
    "the energy levels in sodium atom responsible for this emission?\n",
    "Express your answer in joules, in kilojoules per mole, electron volts.\n",
    "\n",
    "### Answer:\n",
    "$$E = h\\nu$$"
   ]
  },
  {
   "cell_type": "code",
   "execution_count": 14,
   "metadata": {},
   "outputs": [
    {
     "name": "stdout",
     "output_type": "stream",
     "text": [
      "Energy separation between energy levels = 3.37e-19 J\n",
      "Energy separation between energy levels = 202.76 kJ/mol\n",
      "Energy separation between energy levels = 2.10 eV\n"
     ]
    }
   ],
   "source": [
    "lam_nm = 590                     # nm\n",
    "nm2m = 10**(-9)                  # conversion factor from nm -> m\n",
    "lam_m = lam_nm*nm2m              # m\n",
    "hnu_j = h*c/lam_m                # J s x m s^-1 / m => J\n",
    "hnu_kjm = (hnu_j*10**(-3))*N_A   # kJ/mol\n",
    "hnu_ev = hnu_j/eV                # eV\n",
    "\n",
    "print( \"Energy separation between energy levels = {:.2e} J\".format( hnu_j ) )\n",
    "print( \"Energy separation between energy levels = {:.2f} kJ/mol\".format( hnu_kjm ) )\n",
    "print( \"Energy separation between energy levels = {:.2f} eV\".format( hnu_ev ) )"
   ]
  },
  {
   "cell_type": "code",
   "execution_count": null,
   "metadata": {},
   "outputs": [],
   "source": []
  }
 ],
 "metadata": {
  "kernelspec": {
   "display_name": "Python 3",
   "language": "python",
   "name": "python3"
  },
  "language_info": {
   "codemirror_mode": {
    "name": "ipython",
    "version": 3
   },
   "file_extension": ".py",
   "mimetype": "text/x-python",
   "name": "python",
   "nbconvert_exporter": "python",
   "pygments_lexer": "ipython3",
   "version": "3.8.2"
  }
 },
 "nbformat": 4,
 "nbformat_minor": 4
}
