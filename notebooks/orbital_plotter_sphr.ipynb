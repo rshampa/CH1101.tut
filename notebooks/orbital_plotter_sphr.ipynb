{
 "cells": [
  {
   "cell_type": "markdown",
   "metadata": {},
   "source": [
    "# <span style='color:teal'>Chemistry I</span>\n",
    "## <span style='color:teal'>Course code: CH1101</span>\n",
    "- Program: BTech Batch 2021\n",
    "- Course Status: Core\n",
    "\n",
    "## <span style='color:brown'>PLOTTING SPHERICAL HARMONICS IN 3D</span>\n",
    "## <span style='color:brown'>Objectives</span>\n",
    "- Plot spherical harmonics Y<sub>l,m</sub>(&theta;, &phi;) using [Python](https://www.python.org)\n",
    "- Modify <span style='color:brown'><b>l</b></span> and <span style='color:brown'><b>m</b></span> values to plot an atomic orbital"
   ]
  },
  {
   "cell_type": "code",
   "execution_count": null,
   "metadata": {},
   "outputs": [],
   "source": [
    "import numpy as np\n",
    "import matplotlib.pyplot as plt\n",
    "import matplotlib.gridspec as gridspec\n",
    "## Following import configures Matplotlib for 3D plotting.\n",
    "from mpl_toolkits.mplot3d import Axes3D\n",
    "from scipy.special import sph_harm\n",
    "\n",
    "\n",
    "plt.rcParams.update({'font.size': 15})\n",
    "\n",
    "## Grids of polar and azimuthal angles\n",
    "theta = np.linspace(0, np.pi, 100)\n",
    "phi = np.linspace(0, 2*np.pi, 100)\n",
    "## Create a 2-D meshgrid of (theta, phi) angles.\n",
    "theta, phi = np.meshgrid(theta, phi)\n",
    "## Calculate the Cartesian coordinates of each point in the mesh.\n",
    "xyz = np.array([np.sin(theta) * np.sin(phi),\n",
    "                np.sin(theta) * np.cos(phi),\n",
    "                np.cos(theta)])\n",
    "\n",
    "def plot_Y(ax, el, m):\n",
    "    \"\"\"Plot the spherical harmonics of degree el and order m on Axes ax.\"\"\"\n",
    "\n",
    "    ## N.B. In SciPy's sph_harm function definitions are:\n",
    "    ## azimuthal coordinate is theta, and polar coordinate is phi.\n",
    "    ## The opposite convention is generally used in Quantum Mechanics\n",
    "    Y = sph_harm(abs(m), el, phi, theta)\n",
    "\n",
    "    ## Linear combinations of Y_l,m and Y_l,-m to create the real form.\n",
    "    if m < 0:\n",
    "        Y = np.sqrt(2) * (-1)**m * Y.imag\n",
    "    elif m > 0:\n",
    "        Y = np.sqrt(2) * (-1)**m * Y.real\n",
    "    Yx, Yy, Yz = np.abs(Y) * xyz\n",
    "\n",
    "    ## Color the plotted surface according to the sign of Y.\n",
    "    cmap = plt.cm.ScalarMappable(cmap=plt.get_cmap('cool'))\n",
    "    cmap.set_clim(-0.5, 0.5)\n",
    "\n",
    "    ax.plot_surface(Yx, Yy, Yz,\n",
    "                    facecolors=cmap.to_rgba(Y.real),\n",
    "                    rstride=2, cstride=2)\n",
    "    \n",
    "    ax.set_title(r'Spherical Harmonics, $Y_l,m(\\theta,\\phi)$'+r'; $l=$'+str(l)+r', $m=$'+str(m))\n",
    "    ax_lim = 0.5\n",
    "    ax.set_xlim(-ax_lim, ax_lim)\n",
    "    ax.set_ylim(-ax_lim, ax_lim)\n",
    "    ax.set_zlim(-ax_lim, ax_lim)\n",
    "    ax.axis('on')\n",
    "    ax.set_xlabel(\"y\",fontsize=20)\n",
    "    ax.set_ylabel(\"x\",fontsize=20)\n",
    "    ax.set_zlabel(\"z\",fontsize=20)\n",
    "\n",
    "    \n",
    "fig = plt.figure(figsize=(7, 7))\n",
    "ax = fig.add_subplot(projection='3d')\n",
    "\n",
    "## HERE, enter appropriate values of l and m\n",
    "l, m = 2, 0\n",
    "plot_Y(ax, l, m)"
   ]
  },
  {
   "cell_type": "code",
   "execution_count": null,
   "metadata": {},
   "outputs": [],
   "source": []
  }
 ],
 "metadata": {
  "kernelspec": {
   "display_name": "Python 3",
   "language": "python",
   "name": "python3"
  },
  "language_info": {
   "codemirror_mode": {
    "name": "ipython",
    "version": 3
   },
   "file_extension": ".py",
   "mimetype": "text/x-python",
   "name": "python",
   "nbconvert_exporter": "python",
   "pygments_lexer": "ipython3",
   "version": "3.7.6"
  }
 },
 "nbformat": 4,
 "nbformat_minor": 4
}
